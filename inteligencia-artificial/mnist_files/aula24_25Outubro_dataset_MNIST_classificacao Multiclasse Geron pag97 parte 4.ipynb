{
 "cells": [
  {
   "cell_type": "markdown",
   "id": "d9a84838",
   "metadata": {},
   "source": [
    "**Classificação Multiclasse página 97**"
   ]
  },
  {
   "cell_type": "code",
   "execution_count": 1,
   "id": "833b02bc",
   "metadata": {},
   "outputs": [],
   "source": [
    "from sklearn.datasets import fetch_openml"
   ]
  },
  {
   "cell_type": "code",
   "execution_count": 2,
   "id": "2422f7fb",
   "metadata": {
    "scrolled": true
   },
   "outputs": [],
   "source": [
    "mnist = fetch_openml('mnist_784', version=1)"
   ]
  },
  {
   "cell_type": "code",
   "execution_count": 3,
   "id": "17a0d121",
   "metadata": {},
   "outputs": [],
   "source": [
    "X, y = mnist['data'], mnist['target']"
   ]
  },
  {
   "cell_type": "markdown",
   "id": "437fa1fc",
   "metadata": {},
   "source": [
    "**conveter o target de str para int**<br>"
   ]
  },
  {
   "cell_type": "code",
   "execution_count": 4,
   "id": "ab082b8e",
   "metadata": {},
   "outputs": [],
   "source": [
    "y = y.astype(int)"
   ]
  },
  {
   "cell_type": "markdown",
   "id": "a9f2dae4",
   "metadata": {},
   "source": [
    "**<br>1 - Separar dados de teste**<br>"
   ]
  },
  {
   "cell_type": "code",
   "execution_count": 5,
   "id": "de52a7d6-db4c-4fa6-a14f-0174965555bb",
   "metadata": {},
   "outputs": [],
   "source": [
    "X_train, X_test, y_train, y_test = X[:60000], X[60000:], y[:60000], y[60000:]"
   ]
  },
  {
   "cell_type": "markdown",
   "id": "51ceb200",
   "metadata": {},
   "source": [
    "**<br>2 - Embaralhar os dados para**<br>"
   ]
  },
  {
   "cell_type": "code",
   "execution_count": 6,
   "id": "af340967",
   "metadata": {},
   "outputs": [],
   "source": [
    "from sklearn.utils import shuffle"
   ]
  },
  {
   "cell_type": "code",
   "execution_count": 7,
   "id": "0219f31b-185c-442a-ab32-07f71640115c",
   "metadata": {},
   "outputs": [],
   "source": [
    "X_train, y_train = shuffle(X_train, y_train, random_state=42)"
   ]
  },
  {
   "cell_type": "code",
   "execution_count": 19,
   "id": "e8040476-48a5-4355-a01b-c2207e62c282",
   "metadata": {},
   "outputs": [
    {
     "data": {
      "text/plain": [
       "((60000, 784), (60000,))"
      ]
     },
     "execution_count": 19,
     "metadata": {},
     "output_type": "execute_result"
    }
   ],
   "source": [
    "X_train.shape, y_train.shape"
   ]
  },
  {
   "cell_type": "code",
   "execution_count": null,
   "id": "7d8ff245-1961-458a-9a23-98db748251a2",
   "metadata": {},
   "outputs": [],
   "source": []
  },
  {
   "cell_type": "markdown",
   "id": "72051599-34a2-4f1c-a7e3-258cb307ec0a",
   "metadata": {},
   "source": [
    "**<center>Classificação multiclasse com algoritmos binários - GÉRON página 98**"
   ]
  },
  {
   "cell_type": "markdown",
   "id": "e14b60fe-09e8-4cc4-b111-3d0d864ed202",
   "metadata": {},
   "source": [
    "**A maioria dos classificadores do scikit-learn fazem classificação multiclasse.**<br><br>\n",
    "\n",
    "**Alguns algoritmos, originalmente projetados para tarefas de classificação binária, foram adaptados para multiclasse utilizando as estratégias one-versus-the-rest (OvR) e one-vs-one (OvO), oferecidas pelo SciKit.**<br>\n",
    "\n",
    "**Exemplos:**<br>\n",
    "\n",
    ">**SGDClassifier**<br>\n",
    "Funciona automaticamente para multiclasse com o padrão multi_class=\"ovr\"<br>\n",
    "Para usar OvO (Gerón pg 99):<br>\n",
    "from sklearn.multiclass import OneVOneClassifier<br>\n",
    "from sklearn.linear_model import SGDClassifier<br>\n",
    "sgd_multi = OneVsRestClassifier(SGDClassifier())<br>\n",
    "\n",
    ">**Suport Vector Machine**<br>\n",
    "from sklearn.svm import SVC<br>\n",
    "não é SVM, é SVC de Support Vector Classifier. Também tem SVR para problemas de regressão e LinearSVC e LinearSVR que são otimizados para problemas lineares. Classificação Linear se refere ao caso em que as classes são separáveis por uma linha (reta) ou plano sem curvaturas. O Perceptron, a Logistic Regression e o Linear SVM são exemplos de classificadores lineares.<br>\n",
    "svc_ovr = SVC(decision_function_shape=\"ovr\")<br>\n",
    "svc_ovo = SVC(decision_function_shape=\"ovo\")<br>\n",
    "\n",
    ">**LogisticRegression**<br>\n",
    "Apesar do nome é para classificação e não, regressão, prevendo classes discretas, não valores contínuos<br>\n",
    "from sklearn.linear_model import LogisticRegression<br>\n",
    "log_reg_ovr = LogisticRegression(multi_class=\"ovr\")<br>\n",
    "log_reg_multi = LogisticRegression(multi_class=\"multinomial\", solver=\"lbfgs\")<br>\n",
    "\n",
    ">**Perceptron**<br>\n",
    "per_multi = Perceptron()<br>\n",
    "a etratégia é OvR, não tem a outra opção\n",
    "from sklearn.multiclass import OneVsRestClassifier<br>\n",
    "from sklearn.linear_model import Perceptron<br>\n",
    "per_multi = OneVsRestClassifier(Perceptron())<br>\n",
    "\n",
    ">**Naive Bayes**<br>\n",
    "O scikit incluiu a classificação multiclasse nativamente, ele detecta automaticamente quantas classes tem e calcula as probabilidades condicionais para cada uma.<br>\n",
    "from sklearn.naive_bayes import GaussianNB<br>\n",
    "nbg = GaussianNB()<br><br>\n",
    "\n",
    "**OvO**: problemas com poucas classes e classes próximas<br>\n",
    "**OvR**: eficiente e comum para problemas com muitas classes ou quando as classes têm separações mais claras.<br><br>"
   ]
  },
  {
   "cell_type": "code",
   "execution_count": 8,
   "id": "f5c8476e-9cae-42fc-812a-4c5e2877026c",
   "metadata": {},
   "outputs": [],
   "source": [
    "from sklearn.linear_model import SGDClassifier"
   ]
  },
  {
   "cell_type": "code",
   "execution_count": 9,
   "id": "5bb1fe59-1e85-453d-aaf1-b3793ca2c877",
   "metadata": {},
   "outputs": [],
   "source": [
    "sgd_clf = SGDClassifier(random_state=42)"
   ]
  },
  {
   "cell_type": "code",
   "execution_count": 10,
   "id": "e0c50afc-2110-4181-9a13-6c5f26e5b96a",
   "metadata": {},
   "outputs": [
    {
     "name": "stdout",
     "output_type": "stream",
     "text": [
      "tempo download: 156.6996374130249 segundos\n"
     ]
    }
   ],
   "source": [
    "import time\n",
    "ti = time.time()\n",
    "\n",
    "sgd_clf.fit(X_train, y_train)\n",
    "\n",
    "tf = time.time()\n",
    "print('tempo download:', tf-ti, 'segundos')"
   ]
  },
  {
   "cell_type": "code",
   "execution_count": 11,
   "id": "ff83bc08-4424-44a1-a09a-491d6317489e",
   "metadata": {},
   "outputs": [],
   "source": [
    "sgd_pred = sgd_clf.predict(X_train)"
   ]
  },
  {
   "cell_type": "code",
   "execution_count": 12,
   "id": "3e7c7cdb-3780-4461-81b2-f5f8c470230f",
   "metadata": {},
   "outputs": [
    {
     "data": {
      "text/plain": [
       "array([[5738,    1,   20,   48,    0,   44,   39,    1,   21,   11],\n",
       "       [   1, 6464,   25,   39,    4,   58,   75,   10,   51,   15],\n",
       "       [  54,   47, 5035,  181,   45,   78,  256,   49,  197,   16],\n",
       "       [  21,   12,   83, 5574,    5,  178,   49,   33,  107,   69],\n",
       "       [  28,   21,   32,   19, 5199,   56,  108,   31,   91,  257],\n",
       "       [  30,   10,   20,  216,   27, 4717,  218,   22,  112,   49],\n",
       "       [  34,    6,    4,    7,    6,   69, 5785,    1,    6,    0],\n",
       "       [  13,   15,   65,   34,   25,   21,   11, 5801,   53,  227],\n",
       "       [  20,   48,   40,  333,   23,  589,  163,   22, 4535,   78],\n",
       "       [  33,    8,   26,  163,  153,  106,    8,  169,   84, 5199]],\n",
       "      dtype=int64)"
      ]
     },
     "execution_count": 12,
     "metadata": {},
     "output_type": "execute_result"
    }
   ],
   "source": [
    "from sklearn.metrics import confusion_matrix \n",
    "conf_mx = confusion_matrix(y_train, sgd_pred)\n",
    "conf_mx"
   ]
  },
  {
   "cell_type": "code",
   "execution_count": 13,
   "id": "23cca4b1-776b-4358-ad75-674498f7e5ed",
   "metadata": {},
   "outputs": [
    {
     "data": {
      "image/png": "[encoded data removed]",
      "text/plain": [
       "<Figure size 480x480 with 1 Axes>"
      ]
     },
     "metadata": {},
     "output_type": "display_data"
    }
   ],
   "source": [
    "import matplotlib.pyplot as plt\n",
    "\n",
    "plt.matshow(conf_mx, cmap=plt.cm.gray)\n",
    "plt.show()"
   ]
  },
  {
   "cell_type": "markdown",
   "id": "ba9d0a87-5359-4edf-b12a-e8afb32d0ae8",
   "metadata": {},
   "source": [
    "**<br>Algoritmos projetados originalmente para multiclasse**<br>\n",
    "\n",
    ">**RandomForestClassifier: Votação por múltiplas árvores.**<br>\n",
    ">**DecisionTreeClassifier: Classificação direta em múltiplas classes.**<br>\n",
    ">**KNeighborsClassifier: Baseado nos vizinhos mais próximos.**<br>\n",
    ">**Naive Bayes (GaussianNB, MultinomialNB, BernoulliNB): Calcula probabilidades condicionais para cada classe.**<br>\n",
    ">**MLPClassifier: Rede neural que suporta multiclasse diretamente.**<br>"
   ]
  },
  {
   "cell_type": "code",
   "execution_count": 34,
   "id": "2318f13c-d26a-4fbd-8eac-77894565854c",
   "metadata": {},
   "outputs": [
    {
     "data": {
      "text/plain": [
       "(array([3]), 3)"
      ]
     },
     "execution_count": 34,
     "metadata": {},
     "output_type": "execute_result"
    }
   ],
   "source": [
    "digito = sgd_clf.predict(X_train.iloc[[1]])\n",
    "digito, y_train.iloc[1]"
   ]
  },
  {
   "cell_type": "code",
   "execution_count": 32,
   "id": "b4293076-2f81-4f89-b57c-129c8ebb2366",
   "metadata": {},
   "outputs": [
    {
     "data": {
      "text/plain": [
       "3"
      ]
     },
     "execution_count": 32,
     "metadata": {},
     "output_type": "execute_result"
    }
   ],
   "source": [
    "y_train.iloc[1]"
   ]
  },
  {
   "cell_type": "code",
   "execution_count": 33,
   "id": "d96623c9-4891-4ad9-8a36-2047dde85e86",
   "metadata": {},
   "outputs": [
    {
     "data": {
      "text/plain": [
       "array([[-24038.72544516, -36709.38820887, -10899.08416787,\n",
       "          6847.75871203, -31280.87115273,  -5342.24714182,\n",
       "         -8735.00572178, -33972.00832506, -10616.06013427,\n",
       "         -7525.76092984]])"
      ]
     },
     "execution_count": 33,
     "metadata": {},
     "output_type": "execute_result"
    }
   ],
   "source": [
    "digito_scores = sgd_clf.decision_function(X_train.iloc[[1]])\n",
    "digito_scores"
   ]
  },
  {
   "cell_type": "code",
   "execution_count": null,
   "id": "eba5b2b0-95ea-4186-9d72-fdd98c506dcb",
   "metadata": {},
   "outputs": [],
   "source": [
    "#   O método np.argmax retorna o índice do maior valor em um array."
   ]
  }
 ],
 "metadata": {
  "kernelspec": {
   "display_name": "Python 3 (ipykernel)",
   "language": "python",
   "name": "python3"
  },
  "language_info": {
   "codemirror_mode": {
    "name": "ipython",
    "version": 3
   },
   "file_extension": ".py",
   "mimetype": "text/x-python",
   "name": "python",
   "nbconvert_exporter": "python",
   "pygments_lexer": "ipython3",
   "version": "3.12.3"
  }
 },
 "nbformat": 4,
 "nbformat_minor": 5
}
